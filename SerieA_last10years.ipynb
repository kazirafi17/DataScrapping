{
  "nbformat": 4,
  "nbformat_minor": 0,
  "metadata": {
    "colab": {
      "provenance": [],
      "authorship_tag": "ABX9TyO2uAHoVCrRk4sn9AlWJi9L",
      "include_colab_link": true
    },
    "kernelspec": {
      "name": "python3",
      "display_name": "Python 3"
    },
    "language_info": {
      "name": "python"
    }
  },
  "cells": [
    {
      "cell_type": "markdown",
      "metadata": {
        "id": "view-in-github",
        "colab_type": "text"
      },
      "source": [
        "<a href=\"https://colab.research.google.com/github/kazirafi17/DataScrapping/blob/main/SerieA_last10years.ipynb\" target=\"_parent\"><img src=\"https://colab.research.google.com/assets/colab-badge.svg\" alt=\"Open In Colab\"/></a>"
      ]
    },
    {
      "cell_type": "code",
      "execution_count": 1,
      "metadata": {
        "colab": {
          "base_uri": "https://localhost:8080/"
        },
        "id": "25VgD_g-OK7V",
        "outputId": "9db2c2bb-bce1-442f-f69b-4d64bc977068"
      },
      "outputs": [
        {
          "output_type": "stream",
          "name": "stdout",
          "text": [
            "Data saved to Serie_A_full_stats_1.csv\n"
          ]
        }
      ],
      "source": [
        "import pandas as pd\n",
        "import requests\n",
        "\n",
        "\n",
        "RAPIDAPI_KEY = 'b6e89817d6msh36107de73277139p116779jsne307fb015e33'\n",
        "\n",
        "# Define the base URL for the fixtures endpoint\n",
        "url = \"https://api-football-v1.p.rapidapi.com/v3/fixtures\"\n",
        "\n",
        "# List of seasons to fetch data for\n",
        "seasons = ['2024', '2023', '2022', '2021', '2020', '2019', '2018', '2017', '2016', '2015']  # Season years\n",
        "\n",
        "# Set the headers with your API key\n",
        "headers = {\n",
        "    \"X-RapidAPI-Host\": \"api-football-v1.p.rapidapi.com\",\n",
        "    \"X-RapidAPI-Key\": RAPIDAPI_KEY\n",
        "}\n",
        "\n",
        "all_fixtures = []  # To store fixtures for all seasons\n",
        "\n",
        "# Loop through each season\n",
        "for season in seasons:\n",
        "    querystring = {\n",
        "        \"league\": \"135\",  # Serie A league ID\n",
        "        \"season\": season\n",
        "    }\n",
        "\n",
        "    # Make the API request for the current season\n",
        "    response = requests.get(url, headers=headers, params=querystring)\n",
        "\n",
        "    # Check the response status\n",
        "    if response.status_code == 200:\n",
        "        # Parse the JSON response\n",
        "        data = response.json()\n",
        "\n",
        "        # Assuming the relevant data is in 'response' key\n",
        "        fixtures = data['response']\n",
        "\n",
        "        # Add the fixtures to the list\n",
        "        all_fixtures.extend(fixtures)\n",
        "    else:\n",
        "        print(f\"Error fetching season {season}: {response.status_code} - {response.text}\")\n",
        "\n",
        "# Convert to DataFrame (flattening any nested data)\n",
        "df_fixtures = pd.json_normalize(all_fixtures)\n",
        "\n",
        "# Save to CSV (optional)\n",
        "df_fixtures.to_csv('Serie_A_full_stats_1.csv', index=False)\n",
        "print(\"Data saved to Serie_A_full_stats_1.csv\")"
      ]
    },
    {
      "cell_type": "code",
      "source": [
        "\n",
        "RAPIDAPI_KEY = 'b6e89817d6msh36107de73277139p116779jsne307fb015e33'\n",
        "\n",
        "# Define the base URLs for the fixtures and statistics endpoints\n",
        "url_fixtures = \"https://api-football-v1.p.rapidapi.com/v3/fixtures\"\n",
        "url_statistics = \"https://api-football-v1.p.rapidapi.com/v3/fixtures/statistics\"\n",
        "\n",
        "headers = {\n",
        "    \"X-RapidAPI-Key\": RAPIDAPI_KEY,\n",
        "    \"X-RapidAPI-Host\": \"api-football-v1.p.rapidapi.com\"\n",
        "}\n",
        "\n",
        "# Define league and season\n",
        "league_id = \"135\"  # for Serie A\n",
        "seasons = ['2024', '2023', '2022', '2021', '2020', '2019', '2018', '2017', '2016', '2015']\n",
        "\n",
        "# Fetch the fixtures\n",
        "querystring_fixtures = {\"league\": league_id, \"season\": seasons}\n",
        "response_fixtures = requests.get(url_fixtures, headers=headers, params=querystring_fixtures)\n",
        "\n",
        "# Check if the request was successful\n",
        "if response_fixtures.status_code == 200:\n",
        "    data_fixtures = response_fixtures.json()\n",
        "    fixtures = data_fixtures['response']\n",
        "\n",
        "    # Step 2: Loop through each fixture to get the full statistics\n",
        "    all_stats = []\n",
        "    for fixture in fixtures:\n",
        "        fixture_id = fixture['fixture']['id']  # Get the fixture ID\n",
        "        fixture_date = fixture['fixture']['date']  # Get the fixture date\n",
        "\n",
        "        # Fetch the statistics for this fixture\n",
        "        querystring_stats = {\"fixture\": fixture_id}\n",
        "        response_stats = requests.get(url_statistics, headers=headers, params=querystring_stats)\n",
        "\n",
        "        if response_stats.status_code == 200:\n",
        "            stats_data = response_stats.json()\n",
        "\n",
        "            # Extract relevant stats for both teams\n",
        "            if 'response' in stats_data and stats_data['response']:\n",
        "                for team_stats in stats_data['response']:\n",
        "                    team_name = team_stats['team']['name']\n",
        "                    team_id = team_stats['team']['id']\n",
        "\n",
        "                    # Create a dictionary to store all statistics for this team in this fixture\n",
        "                    stats_dict = {\n",
        "                        \"fixture_id\": fixture_id,\n",
        "                        \"fixture_date\": fixture_date,\n",
        "                        \"team_name\": team_name,\n",
        "                        \"team_id\": team_id\n",
        "                    }\n",
        "\n",
        "                    # Loop through the available statistics and store them in the dictionary\n",
        "                    for stat in team_stats['statistics']:\n",
        "                        stat_name = stat['type']\n",
        "                        stat_value = stat['value']\n",
        "                        stats_dict[stat_name] = stat_value\n",
        "\n",
        "                    # Add the statistics to the list\n",
        "                    all_stats.append(stats_dict)\n",
        "        else:\n",
        "            print(f\"Error fetching stats for fixture {fixture_id}: {response_stats.status_code}\")\n",
        "else:\n",
        "    print(f\"Error fetching fixtures: {response_fixtures.status_code}\")\n",
        "\n",
        "# Step 3: Convert the statistics list to a DataFrame\n",
        "df_stats = pd.DataFrame(all_stats)\n",
        "\n",
        "# Save to CSV to retain all stats for each team per fixture\n",
        "df_stats.to_csv('Serie_A_full_stats_2.csv', index=False)\n",
        "print(\"Serie_A_full_stats_2.csv saved successfully.\")\n"
      ],
      "metadata": {
        "colab": {
          "base_uri": "https://localhost:8080/"
        },
        "id": "EMSFWxn1Oiuu",
        "outputId": "c6e578f6-438d-44b3-9fe6-3645ffe3dc30"
      },
      "execution_count": 3,
      "outputs": [
        {
          "output_type": "stream",
          "name": "stdout",
          "text": [
            "Serie_A_full_stats_2.csv saved successfully.\n"
          ]
        }
      ]
    },
    {
      "cell_type": "code",
      "source": [
        "df1 = pd.read_csv('Serie_A_full_stats_1.csv')\n",
        "df2 = pd.read_csv('Serie_A_full_stats_2.csv')"
      ],
      "metadata": {
        "id": "oMoZ4o_iObm4"
      },
      "execution_count": 4,
      "outputs": []
    },
    {
      "cell_type": "code",
      "source": [
        "df1.info()"
      ],
      "metadata": {
        "colab": {
          "base_uri": "https://localhost:8080/"
        },
        "id": "VTducMu7OnYx",
        "outputId": "297370b5-86b2-42bc-f2e4-36c390186936"
      },
      "execution_count": 8,
      "outputs": [
        {
          "output_type": "stream",
          "name": "stdout",
          "text": [
            "<class 'pandas.core.frame.DataFrame'>\n",
            "RangeIndex: 3801 entries, 0 to 3800\n",
            "Data columns (total 38 columns):\n",
            " #   Column                  Non-Null Count  Dtype  \n",
            "---  ------                  --------------  -----  \n",
            " 0   fixture.id              3801 non-null   int64  \n",
            " 1   fixture.referee         3470 non-null   object \n",
            " 2   fixture.timezone        3801 non-null   object \n",
            " 3   fixture.date            3801 non-null   object \n",
            " 4   fixture.timestamp       3801 non-null   int64  \n",
            " 5   fixture.periods.first   3468 non-null   float64\n",
            " 6   fixture.periods.second  3468 non-null   float64\n",
            " 7   fixture.venue.id        2699 non-null   float64\n",
            " 8   fixture.venue.name      3801 non-null   object \n",
            " 9   fixture.venue.city      3800 non-null   object \n",
            " 10  fixture.status.long     3801 non-null   object \n",
            " 11  fixture.status.short    3801 non-null   object \n",
            " 12  fixture.status.elapsed  3468 non-null   float64\n",
            " 13  league.id               3801 non-null   int64  \n",
            " 14  league.name             3801 non-null   object \n",
            " 15  league.country          3801 non-null   object \n",
            " 16  league.logo             3801 non-null   object \n",
            " 17  league.flag             3801 non-null   object \n",
            " 18  league.season           3801 non-null   int64  \n",
            " 19  league.round            3801 non-null   object \n",
            " 20  teams.home.id           3801 non-null   int64  \n",
            " 21  teams.home.name         3801 non-null   object \n",
            " 22  teams.home.logo         3801 non-null   object \n",
            " 23  teams.home.winner       2592 non-null   object \n",
            " 24  teams.away.id           3801 non-null   int64  \n",
            " 25  teams.away.name         3801 non-null   object \n",
            " 26  teams.away.logo         3801 non-null   object \n",
            " 27  teams.away.winner       2592 non-null   object \n",
            " 28  goals.home              3468 non-null   float64\n",
            " 29  goals.away              3468 non-null   float64\n",
            " 30  score.halftime.home     3467 non-null   float64\n",
            " 31  score.halftime.away     3467 non-null   float64\n",
            " 32  score.fulltime.home     3467 non-null   float64\n",
            " 33  score.fulltime.away     3467 non-null   float64\n",
            " 34  score.extratime.home    0 non-null      float64\n",
            " 35  score.extratime.away    0 non-null      float64\n",
            " 36  score.penalty.home      0 non-null      float64\n",
            " 37  score.penalty.away      0 non-null      float64\n",
            "dtypes: float64(14), int64(6), object(18)\n",
            "memory usage: 1.1+ MB\n"
          ]
        }
      ]
    },
    {
      "cell_type": "code",
      "source": [
        "# Rename the 'fixture.id' column to 'fixture_id'\n",
        "df1 = df1.rename(columns={'fixture.id': 'fixture_id'})"
      ],
      "metadata": {
        "id": "XneWk-KAOpUg"
      },
      "execution_count": 9,
      "outputs": []
    },
    {
      "cell_type": "code",
      "source": [
        "final_df = pd.merge(df1, df2, on='fixture_id', how='inner')  # 'inner', 'outer', 'left', 'right'"
      ],
      "metadata": {
        "id": "GuJveILhOq0l"
      },
      "execution_count": 10,
      "outputs": []
    },
    {
      "cell_type": "code",
      "source": [
        "final_df.info()"
      ],
      "metadata": {
        "colab": {
          "base_uri": "https://localhost:8080/"
        },
        "id": "TeMP3PuJOsGs",
        "outputId": "5664c398-95ad-4ffd-b604-41658624e89a"
      },
      "execution_count": 11,
      "outputs": [
        {
          "output_type": "stream",
          "name": "stdout",
          "text": [
            "<class 'pandas.core.frame.DataFrame'>\n",
            "RangeIndex: 760 entries, 0 to 759\n",
            "Data columns (total 57 columns):\n",
            " #   Column                  Non-Null Count  Dtype  \n",
            "---  ------                  --------------  -----  \n",
            " 0   fixture_id              760 non-null    int64  \n",
            " 1   fixture.referee         760 non-null    object \n",
            " 2   fixture.timezone        760 non-null    object \n",
            " 3   fixture.date            760 non-null    object \n",
            " 4   fixture.timestamp       760 non-null    int64  \n",
            " 5   fixture.periods.first   760 non-null    float64\n",
            " 6   fixture.periods.second  760 non-null    float64\n",
            " 7   fixture.venue.id        152 non-null    float64\n",
            " 8   fixture.venue.name      760 non-null    object \n",
            " 9   fixture.venue.city      760 non-null    object \n",
            " 10  fixture.status.long     760 non-null    object \n",
            " 11  fixture.status.short    760 non-null    object \n",
            " 12  fixture.status.elapsed  760 non-null    float64\n",
            " 13  league.id               760 non-null    int64  \n",
            " 14  league.name             760 non-null    object \n",
            " 15  league.country          760 non-null    object \n",
            " 16  league.logo             760 non-null    object \n",
            " 17  league.flag             760 non-null    object \n",
            " 18  league.season           760 non-null    int64  \n",
            " 19  league.round            760 non-null    object \n",
            " 20  teams.home.id           760 non-null    int64  \n",
            " 21  teams.home.name         760 non-null    object \n",
            " 22  teams.home.logo         760 non-null    object \n",
            " 23  teams.home.winner       570 non-null    object \n",
            " 24  teams.away.id           760 non-null    int64  \n",
            " 25  teams.away.name         760 non-null    object \n",
            " 26  teams.away.logo         760 non-null    object \n",
            " 27  teams.away.winner       570 non-null    object \n",
            " 28  goals.home              760 non-null    float64\n",
            " 29  goals.away              760 non-null    float64\n",
            " 30  score.halftime.home     760 non-null    float64\n",
            " 31  score.halftime.away     760 non-null    float64\n",
            " 32  score.fulltime.home     760 non-null    float64\n",
            " 33  score.fulltime.away     760 non-null    float64\n",
            " 34  score.extratime.home    0 non-null      float64\n",
            " 35  score.extratime.away    0 non-null      float64\n",
            " 36  score.penalty.home      0 non-null      float64\n",
            " 37  score.penalty.away      0 non-null      float64\n",
            " 38  fixture_date            760 non-null    object \n",
            " 39  team_name               760 non-null    object \n",
            " 40  team_id                 760 non-null    int64  \n",
            " 41  Shots on Goal           760 non-null    int64  \n",
            " 42  Shots off Goal          760 non-null    int64  \n",
            " 43  Total Shots             760 non-null    int64  \n",
            " 44  Blocked Shots           758 non-null    float64\n",
            " 45  Shots insidebox         760 non-null    int64  \n",
            " 46  Shots outsidebox        760 non-null    int64  \n",
            " 47  Fouls                   760 non-null    int64  \n",
            " 48  Corner Kicks            760 non-null    int64  \n",
            " 49  Offsides                746 non-null    float64\n",
            " 50  Ball Possession         760 non-null    object \n",
            " 51  Yellow Cards            758 non-null    float64\n",
            " 52  Red Cards               760 non-null    int64  \n",
            " 53  Goalkeeper Saves        754 non-null    float64\n",
            " 54  Total passes            760 non-null    int64  \n",
            " 55  Passes accurate         760 non-null    int64  \n",
            " 56  Passes %                760 non-null    object \n",
            "dtypes: float64(18), int64(17), object(22)\n",
            "memory usage: 338.6+ KB\n"
          ]
        }
      ]
    },
    {
      "cell_type": "code",
      "source": [
        "final_df.to_csv('Serie_A_full_stats_last10years.csv', index=False)"
      ],
      "metadata": {
        "id": "9E0lfHGKOvFw"
      },
      "execution_count": 12,
      "outputs": []
    },
    {
      "cell_type": "code",
      "source": [],
      "metadata": {
        "id": "B56KoNrXOyrl"
      },
      "execution_count": null,
      "outputs": []
    }
  ]
}