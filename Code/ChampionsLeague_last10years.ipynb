{
  "nbformat": 4,
  "nbformat_minor": 0,
  "metadata": {
    "colab": {
      "provenance": [],
      "authorship_tag": "ABX9TyNN1bcqXMPCIMt/XNl+BRSr",
      "include_colab_link": true
    },
    "kernelspec": {
      "name": "python3",
      "display_name": "Python 3"
    },
    "language_info": {
      "name": "python"
    }
  },
  "cells": [
    {
      "cell_type": "markdown",
      "metadata": {
        "id": "view-in-github",
        "colab_type": "text"
      },
      "source": [
        "<a href=\"https://colab.research.google.com/github/kazirafi17/DataScrapping/blob/main/ChampionsLeague_last10years.ipynb\" target=\"_parent\"><img src=\"https://colab.research.google.com/assets/colab-badge.svg\" alt=\"Open In Colab\"/></a>"
      ]
    },
    {
      "cell_type": "code",
      "execution_count": 1,
      "metadata": {
        "colab": {
          "base_uri": "https://localhost:8080/"
        },
        "id": "7i2evNwPQvsf",
        "outputId": "1b4b82f9-9a2d-4660-f4ec-137d44b5f026"
      },
      "outputs": [
        {
          "output_type": "stream",
          "name": "stdout",
          "text": [
            "Data saved to Champions_League_full_stats_1.csv\n"
          ]
        }
      ],
      "source": [
        "import pandas as pd\n",
        "import requests\n",
        "\n",
        "# Replace with your RapidAPI key\n",
        "RAPIDAPI_KEY = 'b6e89817d6msh36107de73277139p116779jsne307fb015e33'\n",
        "\n",
        "# Define the base URL for the fixtures endpoint\n",
        "url = \"https://api-football-v1.p.rapidapi.com/v3/fixtures\"\n",
        "\n",
        "# List of seasons to fetch data for\n",
        "seasons = ['2024', '2023', '2022', '2021', '2020', '2019', '2018', '2017', '2016', '2015']  # Season years\n",
        "\n",
        "# Set the headers with your API key\n",
        "headers = {\n",
        "    \"X-RapidAPI-Host\": \"api-football-v1.p.rapidapi.com\",\n",
        "    \"X-RapidAPI-Key\": RAPIDAPI_KEY\n",
        "}\n",
        "\n",
        "all_fixtures = []  # To store fixtures for all seasons\n",
        "\n",
        "# Loop through each season\n",
        "for season in seasons:\n",
        "    querystring = {\n",
        "        \"league\": \"2\",  # UEFA Champions League league ID\n",
        "        \"season\": season\n",
        "    }\n",
        "\n",
        "    # Make the API request for the current season\n",
        "    response = requests.get(url, headers=headers, params=querystring)\n",
        "\n",
        "    # Check the response status\n",
        "    if response.status_code == 200:\n",
        "        # Parse the JSON response\n",
        "        data = response.json()\n",
        "\n",
        "        # Assuming the relevant data is in 'response' key\n",
        "        fixtures = data['response']\n",
        "\n",
        "        # Add the fixtures to the list\n",
        "        all_fixtures.extend(fixtures)\n",
        "    else:\n",
        "        print(f\"Error fetching season {season}: {response.status_code} - {response.text}\")\n",
        "\n",
        "# Convert to DataFrame (flattening any nested data)\n",
        "df_fixtures = pd.json_normalize(all_fixtures)\n",
        "\n",
        "# Save to CSV (optional)\n",
        "df_fixtures.to_csv('Champions_League_full_stats_1.csv', index=False)\n",
        "print(\"Data saved to Champions_League_full_stats_1.csv\")\n"
      ]
    },
    {
      "cell_type": "code",
      "source": [
        "# Replace with your RapidAPI key\n",
        "RAPIDAPI_KEY = 'b6e89817d6msh36107de73277139p116779jsne307fb015e33'\n",
        "\n",
        "# Define the base URLs for the fixtures and statistics endpoints\n",
        "url_fixtures = \"https://api-football-v1.p.rapidapi.com/v3/fixtures\"\n",
        "url_statistics = \"https://api-football-v1.p.rapidapi.com/v3/fixtures/statistics\"\n",
        "\n",
        "headers = {\n",
        "    \"X-RapidAPI-Key\": RAPIDAPI_KEY,\n",
        "    \"X-RapidAPI-Host\": \"api-football-v1.p.rapidapi.com\"\n",
        "}\n",
        "\n",
        "# Define league and season\n",
        "league_id = \"2\"  # for UEFA Champions League\n",
        "seasons = ['2024', '2023', '2022', '2021', '2020', '2019', '2018', '2017', '2016', '2015']\n",
        "\n",
        "# Fetch the fixtures\n",
        "querystring_fixtures = {\"league\": league_id, \"season\": seasons}\n",
        "response_fixtures = requests.get(url_fixtures, headers=headers, params=querystring_fixtures)\n",
        "\n",
        "# Check if the request was successful\n",
        "if response_fixtures.status_code == 200:\n",
        "    data_fixtures = response_fixtures.json()\n",
        "    fixtures = data_fixtures['response']\n",
        "\n",
        "    # Step 2: Loop through each fixture to get the full statistics\n",
        "    all_stats = []\n",
        "    for fixture in fixtures:\n",
        "        fixture_id = fixture['fixture']['id']  # Get the fixture ID\n",
        "        fixture_date = fixture['fixture']['date']  # Get the fixture date\n",
        "\n",
        "        # Fetch the statistics for this fixture\n",
        "        querystring_stats = {\"fixture\": fixture_id}\n",
        "        response_stats = requests.get(url_statistics, headers=headers, params=querystring_stats)\n",
        "\n",
        "        if response_stats.status_code == 200:\n",
        "            stats_data = response_stats.json()\n",
        "\n",
        "            # Extract relevant stats for both teams\n",
        "            if 'response' in stats_data and stats_data['response']:\n",
        "                for team_stats in stats_data['response']:\n",
        "                    team_name = team_stats['team']['name']\n",
        "                    team_id = team_stats['team']['id']\n",
        "\n",
        "                    # Create a dictionary to store all statistics for this team in this fixture\n",
        "                    stats_dict = {\n",
        "                        \"fixture_id\": fixture_id,\n",
        "                        \"fixture_date\": fixture_date,\n",
        "                        \"team_name\": team_name,\n",
        "                        \"team_id\": team_id\n",
        "                    }\n",
        "\n",
        "                    # Loop through the available statistics and store them in the dictionary\n",
        "                    for stat in team_stats['statistics']:\n",
        "                        stat_name = stat['type']\n",
        "                        stat_value = stat['value']\n",
        "                        stats_dict[stat_name] = stat_value\n",
        "\n",
        "                    # Add the statistics to the list\n",
        "                    all_stats.append(stats_dict)\n",
        "        else:\n",
        "            print(f\"Error fetching stats for fixture {fixture_id}: {response_stats.status_code}\")\n",
        "else:\n",
        "    print(f\"Error fetching fixtures: {response_fixtures.status_code}\")\n",
        "\n",
        "# Step 3: Convert the statistics list to a DataFrame\n",
        "df_stats = pd.DataFrame(all_stats)\n",
        "\n",
        "# Save to CSV to retain all stats for each team per fixture\n",
        "df_stats.to_csv('Champions_League_full_stats_2.csv', index=False)\n",
        "print(\"Champions_League_full_stats_2.csv saved successfully.\")\n"
      ],
      "metadata": {
        "colab": {
          "base_uri": "https://localhost:8080/"
        },
        "id": "8e8dEOC9Q7oo",
        "outputId": "42deac65-0b43-462b-f18f-36e1b05a9630"
      },
      "execution_count": 2,
      "outputs": [
        {
          "output_type": "stream",
          "name": "stdout",
          "text": [
            "Champions_League_full_stats_2.csv saved successfully.\n"
          ]
        }
      ]
    },
    {
      "cell_type": "code",
      "source": [
        "df1 = pd.read_csv('Champions_League_full_stats_1.csv')\n",
        "df2 = pd.read_csv('Champions_League_full_stats_2.csv')"
      ],
      "metadata": {
        "id": "k-eZikHVRHSi"
      },
      "execution_count": 3,
      "outputs": []
    },
    {
      "cell_type": "code",
      "source": [
        "df2.info()"
      ],
      "metadata": {
        "colab": {
          "base_uri": "https://localhost:8080/"
        },
        "id": "w62xqA0pRNLr",
        "outputId": "ad81b275-0287-4a9f-eeb7-285cba7705a4"
      },
      "execution_count": 4,
      "outputs": [
        {
          "output_type": "stream",
          "name": "stdout",
          "text": [
            "<class 'pandas.core.frame.DataFrame'>\n",
            "RangeIndex: 356 entries, 0 to 355\n",
            "Data columns (total 20 columns):\n",
            " #   Column            Non-Null Count  Dtype  \n",
            "---  ------            --------------  -----  \n",
            " 0   fixture_id        356 non-null    int64  \n",
            " 1   fixture_date      356 non-null    object \n",
            " 2   team_name         356 non-null    object \n",
            " 3   team_id           356 non-null    int64  \n",
            " 4   Shots on Goal     342 non-null    float64\n",
            " 5   Shots off Goal    342 non-null    float64\n",
            " 6   Total Shots       342 non-null    float64\n",
            " 7   Blocked Shots     250 non-null    float64\n",
            " 8   Shots insidebox   250 non-null    float64\n",
            " 9   Shots outsidebox  250 non-null    float64\n",
            " 10  Fouls             342 non-null    float64\n",
            " 11  Corner Kicks      356 non-null    int64  \n",
            " 12  Offsides          332 non-null    float64\n",
            " 13  Ball Possession   342 non-null    object \n",
            " 14  Yellow Cards      342 non-null    float64\n",
            " 15  Red Cards         356 non-null    int64  \n",
            " 16  Goalkeeper Saves  342 non-null    float64\n",
            " 17  Total passes      250 non-null    float64\n",
            " 18  Passes accurate   250 non-null    float64\n",
            " 19  Passes %          250 non-null    object \n",
            "dtypes: float64(12), int64(4), object(4)\n",
            "memory usage: 55.8+ KB\n"
          ]
        }
      ]
    },
    {
      "cell_type": "code",
      "source": [
        "# Rename the 'fixture.id' column to 'fixture_id'\n",
        "df1 = df1.rename(columns={'fixture.id': 'fixture_id'})"
      ],
      "metadata": {
        "id": "eVgjVQU0RPFm"
      },
      "execution_count": 5,
      "outputs": []
    },
    {
      "cell_type": "code",
      "source": [
        "final_df = pd.merge(df1, df2, on='fixture_id', how='inner')  # 'inner', 'outer', 'left', 'right'"
      ],
      "metadata": {
        "id": "Fy5a7nB7RSbQ"
      },
      "execution_count": 6,
      "outputs": []
    },
    {
      "cell_type": "code",
      "source": [
        "final_df.info()"
      ],
      "metadata": {
        "colab": {
          "base_uri": "https://localhost:8080/"
        },
        "id": "alFq2Wx-RT11",
        "outputId": "c859d29c-278c-4ad6-dc6d-b7e6cbd4f9d1"
      },
      "execution_count": 7,
      "outputs": [
        {
          "output_type": "stream",
          "name": "stdout",
          "text": [
            "<class 'pandas.core.frame.DataFrame'>\n",
            "RangeIndex: 356 entries, 0 to 355\n",
            "Data columns (total 57 columns):\n",
            " #   Column                  Non-Null Count  Dtype  \n",
            "---  ------                  --------------  -----  \n",
            " 0   fixture_id              356 non-null    int64  \n",
            " 1   fixture.referee         356 non-null    object \n",
            " 2   fixture.timezone        356 non-null    object \n",
            " 3   fixture.date            356 non-null    object \n",
            " 4   fixture.timestamp       356 non-null    int64  \n",
            " 5   fixture.periods.first   356 non-null    float64\n",
            " 6   fixture.periods.second  356 non-null    float64\n",
            " 7   fixture.venue.id        118 non-null    float64\n",
            " 8   fixture.venue.name      356 non-null    object \n",
            " 9   fixture.venue.city      356 non-null    object \n",
            " 10  fixture.status.long     356 non-null    object \n",
            " 11  fixture.status.short    356 non-null    object \n",
            " 12  fixture.status.elapsed  356 non-null    float64\n",
            " 13  league.id               356 non-null    int64  \n",
            " 14  league.name             356 non-null    object \n",
            " 15  league.country          356 non-null    object \n",
            " 16  league.logo             356 non-null    object \n",
            " 17  league.flag             0 non-null      float64\n",
            " 18  league.season           356 non-null    int64  \n",
            " 19  league.round            356 non-null    object \n",
            " 20  teams.home.id           356 non-null    int64  \n",
            " 21  teams.home.name         356 non-null    object \n",
            " 22  teams.home.logo         356 non-null    object \n",
            " 23  teams.home.winner       284 non-null    object \n",
            " 24  teams.away.id           356 non-null    int64  \n",
            " 25  teams.away.name         356 non-null    object \n",
            " 26  teams.away.logo         356 non-null    object \n",
            " 27  teams.away.winner       284 non-null    object \n",
            " 28  goals.home              356 non-null    float64\n",
            " 29  goals.away              356 non-null    float64\n",
            " 30  score.halftime.home     356 non-null    float64\n",
            " 31  score.halftime.away     356 non-null    float64\n",
            " 32  score.fulltime.home     356 non-null    float64\n",
            " 33  score.fulltime.away     356 non-null    float64\n",
            " 34  score.extratime.home    6 non-null      float64\n",
            " 35  score.extratime.away    6 non-null      float64\n",
            " 36  score.penalty.home      4 non-null      float64\n",
            " 37  score.penalty.away      4 non-null      float64\n",
            " 38  fixture_date            356 non-null    object \n",
            " 39  team_name               356 non-null    object \n",
            " 40  team_id                 356 non-null    int64  \n",
            " 41  Shots on Goal           342 non-null    float64\n",
            " 42  Shots off Goal          342 non-null    float64\n",
            " 43  Total Shots             342 non-null    float64\n",
            " 44  Blocked Shots           250 non-null    float64\n",
            " 45  Shots insidebox         250 non-null    float64\n",
            " 46  Shots outsidebox        250 non-null    float64\n",
            " 47  Fouls                   342 non-null    float64\n",
            " 48  Corner Kicks            356 non-null    int64  \n",
            " 49  Offsides                332 non-null    float64\n",
            " 50  Ball Possession         342 non-null    object \n",
            " 51  Yellow Cards            342 non-null    float64\n",
            " 52  Red Cards               356 non-null    int64  \n",
            " 53  Goalkeeper Saves        342 non-null    float64\n",
            " 54  Total passes            250 non-null    float64\n",
            " 55  Passes accurate         250 non-null    float64\n",
            " 56  Passes %                250 non-null    object \n",
            "dtypes: float64(27), int64(9), object(21)\n",
            "memory usage: 158.7+ KB\n"
          ]
        }
      ]
    },
    {
      "cell_type": "code",
      "source": [
        "final_df.to_csv('ChamiponsLeague_full_stats_last10years.csv', index=False)"
      ],
      "metadata": {
        "id": "rEvJwg0zRW4X"
      },
      "execution_count": 8,
      "outputs": []
    },
    {
      "cell_type": "code",
      "source": [],
      "metadata": {
        "id": "WG3Z2NPdRecz"
      },
      "execution_count": 8,
      "outputs": []
    }
  ]
}