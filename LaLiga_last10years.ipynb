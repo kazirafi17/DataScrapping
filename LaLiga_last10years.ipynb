{
  "nbformat": 4,
  "nbformat_minor": 0,
  "metadata": {
    "colab": {
      "provenance": [],
      "authorship_tag": "ABX9TyNtF4xwFgWMRr2uh37b8tum",
      "include_colab_link": true
    },
    "kernelspec": {
      "name": "python3",
      "display_name": "Python 3"
    },
    "language_info": {
      "name": "python"
    }
  },
  "cells": [
    {
      "cell_type": "markdown",
      "metadata": {
        "id": "view-in-github",
        "colab_type": "text"
      },
      "source": [
        "<a href=\"https://colab.research.google.com/github/kazirafi17/DataScrapping/blob/main/LaLiga_last10years.ipynb\" target=\"_parent\"><img src=\"https://colab.research.google.com/assets/colab-badge.svg\" alt=\"Open In Colab\"/></a>"
      ]
    },
    {
      "cell_type": "code",
      "execution_count": 2,
      "metadata": {
        "id": "uZntYBjlMbu4"
      },
      "outputs": [],
      "source": [
        "import pandas as pd\n",
        "import requests"
      ]
    },
    {
      "cell_type": "code",
      "source": [
        "# Step 1: Fetch fixture data\n",
        "url_fixtures = \"https://api-football-v1.p.rapidapi.com/v3/fixtures\"\n",
        "url_statistics = \"https://api-football-v1.p.rapidapi.com/v3/fixtures/statistics\"\n",
        "\n",
        "headers = {\n",
        "    \"X-RapidAPI-Key\": \"b6e89817d6msh36107de73277139p116779jsne307fb015e33\",\n",
        "    \"X-RapidAPI-Host\": \"api-football-v1.p.rapidapi.com\"\n",
        "}\n",
        "\n",
        "# Define league and season\n",
        "league_id = \"140\"  # for La Liga\n",
        "seasons = ['2024', '2023', '2022', '2021', '2020', '2019', '2018', '2017', '2016', '2015']\n",
        "\n",
        "# Fetch the fixtures\n",
        "querystring_fixtures = {\"league\": league_id, \"season\": seasons}\n",
        "response_fixtures = requests.get(url_fixtures, headers=headers, params=querystring_fixtures)\n",
        "\n",
        "# Check if the request was successful\n",
        "if response_fixtures.status_code == 200:\n",
        "    data_fixtures = response_fixtures.json()\n",
        "    fixtures = data_fixtures['response']\n",
        "\n",
        "    # Step 2: Loop through each fixture to get the full statistics\n",
        "    all_stats = []\n",
        "    for fixture in fixtures:\n",
        "        fixture_id = fixture['fixture']['id']  # Get the fixture ID\n",
        "        fixture_date = fixture['fixture']['date']  # Get the fixture date\n",
        "\n",
        "        # Fetch the statistics for this fixture\n",
        "        querystring_stats = {\"fixture\": fixture_id}\n",
        "        response_stats = requests.get(url_statistics, headers=headers, params=querystring_stats)\n",
        "\n",
        "        if response_stats.status_code == 200:\n",
        "            stats_data = response_stats.json()\n",
        "\n",
        "            # Extract relevant stats for both teams\n",
        "            if 'response' in stats_data and stats_data['response']:\n",
        "                for team_stats in stats_data['response']:\n",
        "                    team_name = team_stats['team']['name']\n",
        "                    team_id = team_stats['team']['id']\n",
        "\n",
        "                    # Create a dictionary to store all statistics for this team in this fixture\n",
        "                    stats_dict = {\n",
        "                        \"fixture_id\": fixture_id,\n",
        "                        \"fixture_date\": fixture_date,\n",
        "                        \"team_name\": team_name,\n",
        "                        \"team_id\": team_id\n",
        "                    }\n",
        "\n",
        "                    # Loop through the available statistics and store them in the dictionary\n",
        "                    for stat in team_stats['statistics']:\n",
        "                        stat_name = stat['type']\n",
        "                        stat_value = stat['value']\n",
        "                        stats_dict[stat_name] = stat_value\n",
        "\n",
        "                    # Add the statistics to the list\n",
        "                    all_stats.append(stats_dict)\n",
        "        else:\n",
        "            print(f\"Error fetching stats for fixture {fixture_id}: {response_stats.status_code}\")\n",
        "else:\n",
        "    print(f\"Error fetching fixtures: {response_fixtures.status_code}\")\n",
        "\n",
        "# Step 3: Convert the statistics list to a DataFrame\n",
        "df_stats = pd.DataFrame(all_stats)\n",
        "\n",
        "# Save to CSV to retain all stats for each team per fixture\n",
        "df_stats.to_csv('La_Liga_full_stats_1.csv', index=False)\n",
        "print(\"La_Liga_full_stats_1.csv saved successfully.\")\n"
      ],
      "metadata": {
        "colab": {
          "base_uri": "https://localhost:8080/"
        },
        "id": "2yQKcbJjMgWQ",
        "outputId": "e477b1e5-acf2-4c85-a1b1-3cafbca53ea3"
      },
      "execution_count": 3,
      "outputs": [
        {
          "output_type": "stream",
          "name": "stdout",
          "text": [
            "La_Liga_full_stats_1.csv saved successfully.\n"
          ]
        }
      ]
    },
    {
      "cell_type": "code",
      "source": [
        "import pandas as pd\n",
        "import requests\n",
        "\n",
        "# Replace with your RapidAPI key\n",
        "RAPIDAPI_KEY = 'b6e89817d6msh36107de73277139p116779jsne307fb015e33'\n",
        "\n",
        "# Define the base URL for the fixtures endpoint\n",
        "url = \"https://api-football-v1.p.rapidapi.com/v3/fixtures\"\n",
        "\n",
        "# List of seasons to fetch data for\n",
        "seasons = ['2024', '2023', '2022', '2021', '2020', '2019', '2018', '2017', '2016', '2015']  # Season years\n",
        "\n",
        "# Set the headers with your API key\n",
        "headers = {\n",
        "    \"X-RapidAPI-Host\": \"api-football-v1.p.rapidapi.com\",\n",
        "    \"X-RapidAPI-Key\": RAPIDAPI_KEY\n",
        "}\n",
        "\n",
        "all_fixtures = []  # To store fixtures for all seasons\n",
        "\n",
        "# Loop through each season\n",
        "for season in seasons:\n",
        "    querystring = {\n",
        "        \"league\": \"140\",  # La Liga league ID\n",
        "        \"season\": season\n",
        "    }\n",
        "\n",
        "    # Make the API request for the current season\n",
        "    response = requests.get(url, headers=headers, params=querystring)\n",
        "\n",
        "    # Check the response status\n",
        "    if response.status_code == 200:\n",
        "        # Parse the JSON response\n",
        "        data = response.json()\n",
        "\n",
        "        # Assuming the relevant data is in 'response' key\n",
        "        fixtures = data['response']\n",
        "\n",
        "        # Add the fixtures to the list\n",
        "        all_fixtures.extend(fixtures)\n",
        "    else:\n",
        "        print(f\"Error fetching season {season}: {response.status_code} - {response.text}\")\n",
        "\n",
        "# Convert to DataFrame (flattening any nested data)\n",
        "df_fixtures = pd.json_normalize(all_fixtures)\n",
        "\n",
        "# Save to CSV (optional)\n",
        "df_fixtures.to_csv('La_Liga_full_stats_2.csv', index=False)\n",
        "print(\"Data saved to La_Liga_full_stats_2.csv\")\n"
      ],
      "metadata": {
        "colab": {
          "base_uri": "https://localhost:8080/"
        },
        "id": "PK0DijMbMtmN",
        "outputId": "a59ee4e6-716c-427f-8dff-3e1dd5f8b032"
      },
      "execution_count": 4,
      "outputs": [
        {
          "output_type": "stream",
          "name": "stdout",
          "text": [
            "Data saved to La_Liga_full_stats_2.csv\n"
          ]
        }
      ]
    },
    {
      "cell_type": "code",
      "source": [
        "df1 = pd.read_csv('La_Liga_full_stats_1.csv')\n",
        "df2 = pd.read_csv('La_Liga_full_stats_2.csv')"
      ],
      "metadata": {
        "id": "V_TDhXMZM2wy"
      },
      "execution_count": 5,
      "outputs": []
    },
    {
      "cell_type": "code",
      "source": [
        "df1.info()"
      ],
      "metadata": {
        "colab": {
          "base_uri": "https://localhost:8080/"
        },
        "id": "--Y25TeFM7vK",
        "outputId": "af20386e-f86a-481d-ad8f-9adaa2e479d6"
      },
      "execution_count": 6,
      "outputs": [
        {
          "output_type": "stream",
          "name": "stdout",
          "text": [
            "<class 'pandas.core.frame.DataFrame'>\n",
            "RangeIndex: 758 entries, 0 to 757\n",
            "Data columns (total 20 columns):\n",
            " #   Column            Non-Null Count  Dtype  \n",
            "---  ------            --------------  -----  \n",
            " 0   fixture_id        758 non-null    int64  \n",
            " 1   fixture_date      758 non-null    object \n",
            " 2   team_name         758 non-null    object \n",
            " 3   team_id           758 non-null    int64  \n",
            " 4   Shots on Goal     758 non-null    int64  \n",
            " 5   Shots off Goal    758 non-null    int64  \n",
            " 6   Total Shots       758 non-null    int64  \n",
            " 7   Blocked Shots     744 non-null    float64\n",
            " 8   Shots insidebox   758 non-null    int64  \n",
            " 9   Shots outsidebox  758 non-null    int64  \n",
            " 10  Fouls             758 non-null    int64  \n",
            " 11  Corner Kicks      758 non-null    int64  \n",
            " 12  Offsides          742 non-null    float64\n",
            " 13  Ball Possession   758 non-null    object \n",
            " 14  Yellow Cards      754 non-null    float64\n",
            " 15  Red Cards         758 non-null    int64  \n",
            " 16  Goalkeeper Saves  754 non-null    float64\n",
            " 17  Total passes      758 non-null    int64  \n",
            " 18  Passes accurate   758 non-null    int64  \n",
            " 19  Passes %          758 non-null    object \n",
            "dtypes: float64(4), int64(12), object(4)\n",
            "memory usage: 118.6+ KB\n"
          ]
        }
      ]
    },
    {
      "cell_type": "code",
      "source": [
        "# Rename the 'fixture.id' column to 'fixture_id'\n",
        "df2 = df2.rename(columns={'fixture.id': 'fixture_id'})"
      ],
      "metadata": {
        "id": "1T_asCCQM9ve"
      },
      "execution_count": 7,
      "outputs": []
    },
    {
      "cell_type": "code",
      "source": [
        "final_df = pd.merge(df1, df2, on='fixture_id', how='inner')  # 'inner', 'outer', 'left', 'right'"
      ],
      "metadata": {
        "id": "kiveOUD3NLIo"
      },
      "execution_count": 8,
      "outputs": []
    },
    {
      "cell_type": "code",
      "source": [
        "final_df.info()"
      ],
      "metadata": {
        "colab": {
          "base_uri": "https://localhost:8080/"
        },
        "id": "be8HK1uHNMXU",
        "outputId": "39980f4e-463f-489b-dac2-7b0ac95c3546"
      },
      "execution_count": 9,
      "outputs": [
        {
          "output_type": "stream",
          "name": "stdout",
          "text": [
            "<class 'pandas.core.frame.DataFrame'>\n",
            "RangeIndex: 758 entries, 0 to 757\n",
            "Data columns (total 57 columns):\n",
            " #   Column                  Non-Null Count  Dtype  \n",
            "---  ------                  --------------  -----  \n",
            " 0   fixture_id              758 non-null    int64  \n",
            " 1   fixture_date            758 non-null    object \n",
            " 2   team_name               758 non-null    object \n",
            " 3   team_id                 758 non-null    int64  \n",
            " 4   Shots on Goal           758 non-null    int64  \n",
            " 5   Shots off Goal          758 non-null    int64  \n",
            " 6   Total Shots             758 non-null    int64  \n",
            " 7   Blocked Shots           744 non-null    float64\n",
            " 8   Shots insidebox         758 non-null    int64  \n",
            " 9   Shots outsidebox        758 non-null    int64  \n",
            " 10  Fouls                   758 non-null    int64  \n",
            " 11  Corner Kicks            758 non-null    int64  \n",
            " 12  Offsides                742 non-null    float64\n",
            " 13  Ball Possession         758 non-null    object \n",
            " 14  Yellow Cards            754 non-null    float64\n",
            " 15  Red Cards               758 non-null    int64  \n",
            " 16  Goalkeeper Saves        754 non-null    float64\n",
            " 17  Total passes            758 non-null    int64  \n",
            " 18  Passes accurate         758 non-null    int64  \n",
            " 19  Passes %                758 non-null    object \n",
            " 20  fixture.referee         758 non-null    object \n",
            " 21  fixture.timezone        758 non-null    object \n",
            " 22  fixture.date            758 non-null    object \n",
            " 23  fixture.timestamp       758 non-null    int64  \n",
            " 24  fixture.periods.first   758 non-null    float64\n",
            " 25  fixture.periods.second  758 non-null    float64\n",
            " 26  fixture.venue.id        152 non-null    float64\n",
            " 27  fixture.venue.name      758 non-null    object \n",
            " 28  fixture.venue.city      758 non-null    object \n",
            " 29  fixture.status.long     758 non-null    object \n",
            " 30  fixture.status.short    758 non-null    object \n",
            " 31  fixture.status.elapsed  758 non-null    float64\n",
            " 32  league.id               758 non-null    int64  \n",
            " 33  league.name             758 non-null    object \n",
            " 34  league.country          758 non-null    object \n",
            " 35  league.logo             758 non-null    object \n",
            " 36  league.flag             758 non-null    object \n",
            " 37  league.season           758 non-null    int64  \n",
            " 38  league.round            758 non-null    object \n",
            " 39  teams.home.id           758 non-null    int64  \n",
            " 40  teams.home.name         758 non-null    object \n",
            " 41  teams.home.logo         758 non-null    object \n",
            " 42  teams.home.winner       576 non-null    object \n",
            " 43  teams.away.id           758 non-null    int64  \n",
            " 44  teams.away.name         758 non-null    object \n",
            " 45  teams.away.logo         758 non-null    object \n",
            " 46  teams.away.winner       576 non-null    object \n",
            " 47  goals.home              758 non-null    float64\n",
            " 48  goals.away              758 non-null    float64\n",
            " 49  score.halftime.home     758 non-null    float64\n",
            " 50  score.halftime.away     758 non-null    float64\n",
            " 51  score.fulltime.home     758 non-null    float64\n",
            " 52  score.fulltime.away     758 non-null    float64\n",
            " 53  score.extratime.home    0 non-null      float64\n",
            " 54  score.extratime.away    0 non-null      float64\n",
            " 55  score.penalty.home      0 non-null      float64\n",
            " 56  score.penalty.away      0 non-null      float64\n",
            "dtypes: float64(18), int64(17), object(22)\n",
            "memory usage: 337.7+ KB\n"
          ]
        }
      ]
    },
    {
      "cell_type": "code",
      "source": [
        "final_df.to_csv('La_Liga_full_stats_last10years.csv', index=False)"
      ],
      "metadata": {
        "id": "R4-v129CNNrn"
      },
      "execution_count": 10,
      "outputs": []
    },
    {
      "cell_type": "code",
      "source": [],
      "metadata": {
        "id": "nA8E9rkMNQ5T"
      },
      "execution_count": null,
      "outputs": []
    }
  ]
}