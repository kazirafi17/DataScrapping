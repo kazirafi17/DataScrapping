{
  "nbformat": 4,
  "nbformat_minor": 0,
  "metadata": {
    "colab": {
      "provenance": [],
      "authorship_tag": "ABX9TyPxYNdNCfkd7GPpmGTyCuiM",
      "include_colab_link": true
    },
    "kernelspec": {
      "name": "python3",
      "display_name": "Python 3"
    },
    "language_info": {
      "name": "python"
    }
  },
  "cells": [
    {
      "cell_type": "markdown",
      "metadata": {
        "id": "view-in-github",
        "colab_type": "text"
      },
      "source": [
        "<a href=\"https://colab.research.google.com/github/kazirafi17/DataScrapping/blob/main/Bundesliga_last10years.ipynb\" target=\"_parent\"><img src=\"https://colab.research.google.com/assets/colab-badge.svg\" alt=\"Open In Colab\"/></a>"
      ]
    },
    {
      "cell_type": "code",
      "execution_count": 7,
      "metadata": {
        "id": "RS1nKIIpPpiS"
      },
      "outputs": [],
      "source": [
        "import requests\n",
        "import pandas as pd\n",
        "import time"
      ]
    },
    {
      "cell_type": "code",
      "source": [
        "# Step 1: Fetch fixture data\n",
        "url_fixtures = \"https://api-football-v1.p.rapidapi.com/v3/fixtures\"\n",
        "url_statistics = \"https://api-football-v1.p.rapidapi.com/v3/fixtures/statistics\"\n",
        "\n",
        "headers = {\n",
        "    \"X-RapidAPI-Key\": \"b6e89817d6msh36107de73277139p116779jsne307fb015e33\",\n",
        "    \"X-RapidAPI-Host\": \"api-football-v1.p.rapidapi.com\"\n",
        "}\n",
        "\n",
        "# Define league and season\n",
        "league_id = \"78\"  # for Bundesliga\n",
        "seasons = ['2024', '2023', '2022', '2021', '2020', '2019', '2018', '2017', '2016', '2015']\n",
        "\n",
        "# Fetch the fixtures\n",
        "querystring_fixtures = {\"league\": league_id, \"season\": seasons}\n",
        "response_fixtures = requests.get(url_fixtures, headers=headers, params=querystring_fixtures)\n",
        "\n",
        "# Check if the request was successful\n",
        "if response_fixtures.status_code == 200:\n",
        "    data_fixtures = response_fixtures.json()\n",
        "    fixtures = data_fixtures['response']\n",
        "\n",
        "    # Step 2: Loop through each fixture to get the full statistics\n",
        "    all_stats = []\n",
        "    for fixture in fixtures:\n",
        "        fixture_id = fixture['fixture']['id']  # Get the fixture ID\n",
        "        fixture_date = fixture['fixture']['date']  # Get the fixture date\n",
        "\n",
        "        # Fetch the statistics for this fixture\n",
        "        querystring_stats = {\"fixture\": fixture_id}\n",
        "        response_stats = requests.get(url_statistics, headers=headers, params=querystring_stats)\n",
        "\n",
        "        if response_stats.status_code == 200:\n",
        "            stats_data = response_stats.json()\n",
        "\n",
        "            # Extract relevant stats for both teams\n",
        "            if 'response' in stats_data and stats_data['response']:\n",
        "                for team_stats in stats_data['response']:\n",
        "                    team_name = team_stats['team']['name']\n",
        "                    team_id = team_stats['team']['id']\n",
        "\n",
        "                    # Create a dictionary to store all statistics for this team in this fixture\n",
        "                    stats_dict = {\n",
        "                        \"fixture_id\": fixture_id,\n",
        "                        \"fixture_date\": fixture_date,\n",
        "                        \"team_name\": team_name,\n",
        "                        \"team_id\": team_id\n",
        "                    }\n",
        "\n",
        "                    # Loop through the available statistics and store them in the dictionary\n",
        "                    for stat in team_stats['statistics']:\n",
        "                        stat_name = stat['type']\n",
        "                        stat_value = stat['value']\n",
        "                        stats_dict[stat_name] = stat_value\n",
        "\n",
        "                    # Add the statistics to the list\n",
        "                    all_stats.append(stats_dict)\n",
        "        else:\n",
        "            print(f\"Error fetching stats for fixture {fixture_id}: {response_stats.status_code}\")\n",
        "else:\n",
        "    print(f\"Error fetching fixtures: {response_fixtures.status_code}\")\n",
        "\n",
        "# Step 3: Convert the statistics list to a DataFrame\n",
        "df_stats = pd.DataFrame(all_stats)\n",
        "\n",
        "# Save to CSV to retain all stats for each team per fixture\n",
        "df_stats.to_csv('Bundesliga_full_stats_1.csv', index=False)\n",
        "print(\"Bundesliga_full_stats_1.csv saved successfully.\")\n"
      ],
      "metadata": {
        "colab": {
          "base_uri": "https://localhost:8080/"
        },
        "id": "9YhrLUAJ4x_1",
        "outputId": "b632ca8b-7b9a-4136-e725-360a080ed276"
      },
      "execution_count": 27,
      "outputs": [
        {
          "output_type": "stream",
          "name": "stdout",
          "text": [
            "Bundesliga_full_stats_1.csv saved successfully.\n"
          ]
        }
      ]
    },
    {
      "cell_type": "code",
      "source": [
        "# Replace with your RapidAPI key\n",
        "RAPIDAPI_KEY = 'b6e89817d6msh36107de73277139p116779jsne307fb015e33'\n",
        "\n",
        "# Define the base URL for the fixtures endpoint\n",
        "url = \"https://api-football-v1.p.rapidapi.com/v3/fixtures\"\n",
        "\n",
        "# List of seasons to fetch data for\n",
        "seasons = ['2024', '2023', '2022', '2021', '2020', '2019', '2018', '2017', '2016', '2015']  # Season years\n",
        "\n",
        "# Set the headers with your API key\n",
        "headers = {\n",
        "    \"X-RapidAPI-Host\": \"api-football-v1.p.rapidapi.com\",\n",
        "    \"X-RapidAPI-Key\": RAPIDAPI_KEY\n",
        "}\n",
        "\n",
        "all_fixtures = []  # To store fixtures for all seasons\n",
        "\n",
        "# Loop through each season\n",
        "for season in seasons:\n",
        "    querystring = {\n",
        "        \"league\": \"78\",  # Bundesliga league ID\n",
        "        \"season\": season\n",
        "    }\n",
        "\n",
        "    # Make the API request for the current season\n",
        "    response = requests.get(url, headers=headers, params=querystring)\n",
        "\n",
        "    # Check the response status\n",
        "    if response.status_code == 200:\n",
        "        # Parse the JSON response\n",
        "        data = response.json()\n",
        "\n",
        "        # Assuming the relevant data is in 'response' key\n",
        "        fixtures = data['response']\n",
        "\n",
        "        # Add the fixtures to the list\n",
        "        all_fixtures.extend(fixtures)\n",
        "    else:\n",
        "        print(f\"Error fetching season {season}: {response.status_code} - {response.text}\")\n",
        "\n",
        "# Convert to DataFrame (flattening any nested data)\n",
        "df_fixtures = pd.json_normalize(all_fixtures)\n",
        "\n",
        "\n",
        "# Save to CSV (optional)\n",
        "df_fixtures.to_csv('Bundesliga_full_stats_2.csv', index=False)\n",
        "print(\"Data saved to Bundesliga_full_stats_2.csv\")\n"
      ],
      "metadata": {
        "colab": {
          "base_uri": "https://localhost:8080/"
        },
        "id": "QLjfQ-8P3LXc",
        "outputId": "a48e0ed7-2643-4339-cede-154c7861b9c1"
      },
      "execution_count": 21,
      "outputs": [
        {
          "output_type": "stream",
          "name": "stdout",
          "text": [
            "Data saved to Bundesliga_match_fixtures_last_10_years.csv\n"
          ]
        }
      ]
    },
    {
      "cell_type": "code",
      "source": [
        "df1 = pd.read_csv('Bundesliga_full_stats_1.csv')\n",
        "df2 = pd.read_csv('Bundesliga_full_stats_2.csv')"
      ],
      "metadata": {
        "id": "fYN7-1BYy234"
      },
      "execution_count": 28,
      "outputs": []
    },
    {
      "cell_type": "code",
      "source": [
        "df2.info()"
      ],
      "metadata": {
        "colab": {
          "base_uri": "https://localhost:8080/"
        },
        "id": "8p9mAHNH3gVF",
        "outputId": "452213e3-f380-44ab-dd10-551b8ac6ed90"
      },
      "execution_count": 42,
      "outputs": [
        {
          "output_type": "stream",
          "name": "stdout",
          "text": [
            "<class 'pandas.core.frame.DataFrame'>\n",
            "RangeIndex: 3072 entries, 0 to 3071\n",
            "Data columns (total 38 columns):\n",
            " #   Column                  Non-Null Count  Dtype  \n",
            "---  ------                  --------------  -----  \n",
            " 0   fixture_id              3072 non-null   int64  \n",
            " 1   fixture.referee         2801 non-null   object \n",
            " 2   fixture.timezone        3072 non-null   object \n",
            " 3   fixture.date            3072 non-null   object \n",
            " 4   fixture.timestamp       3072 non-null   int64  \n",
            " 5   fixture.periods.first   2799 non-null   float64\n",
            " 6   fixture.periods.second  2799 non-null   float64\n",
            " 7   fixture.venue.id        2557 non-null   float64\n",
            " 8   fixture.venue.name      3070 non-null   object \n",
            " 9   fixture.venue.city      3069 non-null   object \n",
            " 10  fixture.status.long     3072 non-null   object \n",
            " 11  fixture.status.short    3072 non-null   object \n",
            " 12  fixture.status.elapsed  2799 non-null   float64\n",
            " 13  league.id               3072 non-null   int64  \n",
            " 14  league.name             3072 non-null   object \n",
            " 15  league.country          3072 non-null   object \n",
            " 16  league.logo             3072 non-null   object \n",
            " 17  league.flag             3072 non-null   object \n",
            " 18  league.season           3072 non-null   int64  \n",
            " 19  league.round            3072 non-null   object \n",
            " 20  teams.home.id           3072 non-null   int64  \n",
            " 21  teams.home.name         3072 non-null   object \n",
            " 22  teams.home.logo         3072 non-null   object \n",
            " 23  teams.home.winner       2110 non-null   object \n",
            " 24  teams.away.id           3072 non-null   int64  \n",
            " 25  teams.away.name         3072 non-null   object \n",
            " 26  teams.away.logo         3072 non-null   object \n",
            " 27  teams.away.winner       2110 non-null   object \n",
            " 28  goals.home              2799 non-null   float64\n",
            " 29  goals.away              2799 non-null   float64\n",
            " 30  score.halftime.home     2799 non-null   float64\n",
            " 31  score.halftime.away     2799 non-null   float64\n",
            " 32  score.fulltime.home     2799 non-null   float64\n",
            " 33  score.fulltime.away     2799 non-null   float64\n",
            " 34  score.extratime.home    1 non-null      float64\n",
            " 35  score.extratime.away    1 non-null      float64\n",
            " 36  score.penalty.home      1 non-null      float64\n",
            " 37  score.penalty.away      1 non-null      float64\n",
            "dtypes: float64(14), int64(6), object(18)\n",
            "memory usage: 912.1+ KB\n"
          ]
        }
      ]
    },
    {
      "cell_type": "code",
      "source": [
        "# Rename the 'fixture.id' column to 'fixture_id'\n",
        "df2 = df2.rename(columns={'fixture.id': 'fixture_id'})"
      ],
      "metadata": {
        "id": "VeKqIXSpQNK5"
      },
      "execution_count": 31,
      "outputs": []
    },
    {
      "cell_type": "code",
      "source": [
        "final_df = pd.merge(df1, df2, on='fixture_id', how='inner')  # 'inner', 'outer', 'left', 'right'"
      ],
      "metadata": {
        "id": "2acNENSdQPFv"
      },
      "execution_count": 37,
      "outputs": []
    },
    {
      "cell_type": "code",
      "source": [
        "final_df.info()"
      ],
      "metadata": {
        "id": "Wk2w1voo_tCm"
      },
      "execution_count": null,
      "outputs": []
    },
    {
      "cell_type": "code",
      "source": [
        "final_df.to_csv('Bundesliga_full_stats_last10years.csv', index=False)"
      ],
      "metadata": {
        "id": "dDQyjZW-RXhM"
      },
      "execution_count": 49,
      "outputs": []
    },
    {
      "cell_type": "code",
      "source": [],
      "metadata": {
        "id": "lSKIZHnW2Hht"
      },
      "execution_count": null,
      "outputs": []
    }
  ]
}